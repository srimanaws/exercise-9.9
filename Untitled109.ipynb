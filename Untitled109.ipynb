{
 "cells": [
  {
   "cell_type": "code",
   "execution_count": 1,
   "id": "8740d865-d030-438d-ab0c-4553fa13d228",
   "metadata": {},
   "outputs": [
    {
     "name": "stdin",
     "output_type": "stream",
     "text": [
      "Enter a 2-digit telephone number:  88\n"
     ]
    },
    {
     "name": "stdout",
     "output_type": "stream",
     "text": [
      "Word combinations saved to 'telephone_words.txt'.\n"
     ]
    }
   ],
   "source": [
    "# Exercise 9.9 by sriman\n",
    "# The codes map the digits to letters, just like the old phone keypads\n",
    "codes = [' ', ' ', 'ABC', 'DEF', 'GHI', 'JKL', 'MNO', 'PRS', 'TUV', 'WXY']\n",
    "\n",
    "def generate_words(telephone_number):\n",
    "    # Open a file to save the combinations\n",
    "    with open('telephone_words.txt', mode='w') as file:\n",
    "        # Extract the digits from the telephone number\n",
    "        digits = [int(digit) for digit in telephone_number]\n",
    "        \n",
    "        # Loop through the possible combinations of the two digits\n",
    "        for char1 in codes[digits[0]]:\n",
    "            for char2 in codes[digits[1]]:\n",
    "                # Write each combination to the file\n",
    "                word = f\"{char1} {char2}\"\n",
    "                file.write(word + '\\n')\n",
    "        \n",
    "        print(f\"Word combinations saved to 'telephone_words.txt'.\")\n",
    "\n",
    "# Let's ask the user for a two-digit number and generate the words\n",
    "telephone_number = input(\"Enter a 2-digit telephone number: \")\n",
    "generate_words(telephone_number)\n"
   ]
  },
  {
   "cell_type": "code",
   "execution_count": null,
   "id": "738a2307-2c61-4b97-8ab7-3790877b8229",
   "metadata": {},
   "outputs": [],
   "source": []
  }
 ],
 "metadata": {
  "kernelspec": {
   "display_name": "Python 3 (ipykernel)",
   "language": "python",
   "name": "python3"
  },
  "language_info": {
   "codemirror_mode": {
    "name": "ipython",
    "version": 3
   },
   "file_extension": ".py",
   "mimetype": "text/x-python",
   "name": "python",
   "nbconvert_exporter": "python",
   "pygments_lexer": "ipython3",
   "version": "3.12.4"
  }
 },
 "nbformat": 4,
 "nbformat_minor": 5
}
